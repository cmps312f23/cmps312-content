{
 "cells": [
  {
   "cell_type": "code",
   "execution_count": 5,
   "metadata": {
    "collapsed": true,
    "ExecuteTime": {
     "end_time": "2023-08-29T05:23:35.269014Z",
     "start_time": "2023-08-29T05:23:34.730578400Z"
    }
   },
   "outputs": [
    {
     "name": "stdout",
     "output_type": "stream",
     "text": [
      "> Name: John Smith\r\n",
      "> Age: 30\r\n",
      "> Married: true\r\n"
     ]
    }
   ],
   "source": [
    "// Initializing Variables by assigning a value\n",
    "// Note: No need to specify the datatype since we are setting a value\n",
    "/* Type is auto-inferred - The variable datatype is\n",
    "    derived from the assigned value */\n",
    "val name = \"John Smith\" // String\n",
    "// val means final - cannot change once initialized\n",
    "val age = 30 // integer\n",
    "var married = false // boolean\n",
    "\n",
    "// 'val' cannot be reassigned --> The following produce errors:\n",
    "// name = \"James Smith\"\n",
    "// age = 31 --> Error\n",
    "\n",
    "// 'var' can be reassigned --> No error produced\n",
    "married = true\n",
    "\n",
    "//Mutable - can be changed\n",
    "var x = 5\n",
    "x += 1\n",
    "\n",
    "// Initializing Variables without a value\n",
    "// Note: When no value is assigned, we must specify the datatype\n",
    "var lastname: String\n",
    "lastname = \"Kotlin\"\n",
    "var month: Int\n",
    "month = 8\n",
    "\n",
    "// Printing results using 'String templates' instead of string concatenation.\n",
    "println(\"> Name: $name\")\n",
    "println(\"> Age: $age\")\n",
    "println(\"> Married: $married\")\n"
   ]
  },
  {
   "cell_type": "code",
   "execution_count": 8,
   "outputs": [
    {
     "name": "stdout",
     "output_type": "stream",
     "text": [
      "Ali Faleh\r\n",
      "2 + 2 = 4\r\n"
     ]
    }
   ],
   "source": [
    "//Strings\n",
    "val firstName = \"Ali\"\n",
    "val lastName = \"Faleh\"\n",
    "\n",
    "/* String Template allow creating dynamic templated string\n",
    " with placeholders (instead of long string concatenation!)\n",
    " */\n",
    "val fullName = \"$firstName $lastName\"\n",
    "// Expression enclosed in {}\n",
    "val sum = \"2 + 2 = ${2 + 2}\"\n",
    "\n",
    "println(fullName)\n",
    "println(sum)"
   ],
   "metadata": {
    "collapsed": false,
    "ExecuteTime": {
     "end_time": "2023-08-29T05:27:01.135421300Z",
     "start_time": "2023-08-29T05:27:00.846301200Z"
    }
   }
  },
  {
   "cell_type": "code",
   "execution_count": 9,
   "outputs": [
    {
     "name": "stdout",
     "output_type": "stream",
     "text": [
      "10\r\n"
     ]
    }
   ],
   "source": [
    "val x = 10\n",
    "println(x)"
   ],
   "metadata": {
    "collapsed": false,
    "ExecuteTime": {
     "end_time": "2023-08-29T07:17:59.295733200Z",
     "start_time": "2023-08-29T07:17:57.996481500Z"
    }
   }
  },
  {
   "cell_type": "code",
   "execution_count": 10,
   "outputs": [
    {
     "name": "stdout",
     "output_type": "stream",
     "text": [
      "true\r\n"
     ]
    }
   ],
   "source": [
    "println(x is Int)"
   ],
   "metadata": {
    "collapsed": false,
    "ExecuteTime": {
     "end_time": "2023-08-29T07:18:16.985279600Z",
     "start_time": "2023-08-29T07:18:16.631627900Z"
    }
   }
  },
  {
   "cell_type": "code",
   "execution_count": 11,
   "outputs": [
    {
     "name": "stdout",
     "output_type": "stream",
     "text": [
      "100\r\n"
     ]
    }
   ],
   "source": [
    "val y: Int = 100\n",
    "println(y)"
   ],
   "metadata": {
    "collapsed": false,
    "ExecuteTime": {
     "end_time": "2023-08-29T07:19:13.504777300Z",
     "start_time": "2023-08-29T07:19:13.271938100Z"
    }
   }
  },
  {
   "cell_type": "code",
   "execution_count": 12,
   "outputs": [
    {
     "name": "stderr",
     "output_type": "stream",
     "text": [
      "Line_12.jupyter.kts (1:1 - 2) Val cannot be reassigned"
     ]
    }
   ],
   "source": [
    "y = 200"
   ],
   "metadata": {
    "collapsed": false,
    "ExecuteTime": {
     "end_time": "2023-08-29T07:19:42.593956700Z",
     "start_time": "2023-08-29T07:19:42.503883600Z"
    }
   }
  },
  {
   "cell_type": "code",
   "execution_count": 13,
   "outputs": [
    {
     "name": "stdout",
     "output_type": "stream",
     "text": [
      "100\r\n"
     ]
    }
   ],
   "source": [
    "var z = 10\n",
    "z = 100\n",
    "println(z)"
   ],
   "metadata": {
    "collapsed": false,
    "ExecuteTime": {
     "end_time": "2023-08-29T07:21:37.711582100Z",
     "start_time": "2023-08-29T07:21:37.312435800Z"
    }
   }
  },
  {
   "cell_type": "code",
   "execution_count": 19,
   "outputs": [
    {
     "name": "stdout",
     "output_type": "stream",
     "text": [
      "Fatima 21\r\n"
     ]
    }
   ],
   "source": [
    "val name = \"Fatima\"\n",
    "val age = 20\n",
    "println(\"$name ${age + 1}\")"
   ],
   "metadata": {
    "collapsed": false,
    "ExecuteTime": {
     "end_time": "2023-08-29T07:31:36.416166600Z",
     "start_time": "2023-08-29T07:31:36.180873100Z"
    }
   }
  },
  {
   "cell_type": "code",
   "execution_count": null,
   "outputs": [],
   "source": [],
   "metadata": {
    "collapsed": false
   }
  },
  {
   "cell_type": "code",
   "execution_count": 26,
   "outputs": [
    {
     "name": "stdout",
     "output_type": "stream",
     "text": [
      "M\r\n"
     ]
    }
   ],
   "source": [
    "var catName : String? = null\n",
    "\n",
    "catName = \"MyCat\"\n",
    "\n",
    "val length  = if (catName !== null)\n",
    "        catName?.length \n",
    "   else \n",
    "       0\n",
    "\n",
    "val length2  = catName?.length ?: 0\n",
    "val age : Int? = null\n",
    "\n",
    "age.dec()\n",
    "\n",
    "val ageGroup = if (age < 18) \"Teenager\" else \"Young adult\"\n",
    "println(length)\n",
    "println(length2)\n",
    "\n",
    "//else \n",
    "    //println(\"Value is null\")"
   ],
   "metadata": {
    "collapsed": false,
    "ExecuteTime": {
     "end_time": "2023-08-29T07:44:28.173332400Z",
     "start_time": "2023-08-29T07:44:27.628150400Z"
    }
   }
  },
  {
   "cell_type": "code",
   "execution_count": 31,
   "outputs": [
    {
     "name": "stderr",
     "output_type": "stream",
     "text": [
      "Line_35.jupyter.kts (4:13 - 14) Smart cast to 'String' is impossible, because 'a' is a mutable property that could have been changed by this time"
     ]
    }
   ],
   "source": [
    "var a: Any = 10\n",
    "a = \"QU\"\n",
    "if (a is String)\n",
    "    println(a.first())"
   ],
   "metadata": {
    "collapsed": false,
    "ExecuteTime": {
     "end_time": "2023-08-29T08:30:09.970153100Z",
     "start_time": "2023-08-29T08:30:09.834048600Z"
    }
   }
  },
  {
   "cell_type": "code",
   "execution_count": 36,
   "outputs": [
    {
     "name": "stdout",
     "output_type": "stream",
     "text": [
      " Faleh\r\n"
     ]
    }
   ],
   "source": [
    "val firstName: String? = null\n",
    "val lastName = \"Faleh\"\n",
    "\n",
    "val length = if (firstName !=null) \n",
    "            firstName.length \n",
    "        else \n",
    "            0\n",
    "            \n",
    "            \n",
    "val length = firstName?.length ?: 0\n",
    "\n",
    "//if (firstName != null) {\n",
    "    val name = \"${firstName?.first() ?: \"\"} $lastName\"\n",
    "    println(name)\n",
    "//}\n"
   ],
   "metadata": {
    "collapsed": false,
    "ExecuteTime": {
     "end_time": "2023-08-29T08:44:36.731925700Z",
     "start_time": "2023-08-29T08:44:36.272821900Z"
    }
   }
  },
  {
   "cell_type": "code",
   "execution_count": 3,
   "outputs": [
    {
     "name": "stdout",
     "output_type": "stream",
     "text": [
      "[10, 20, 0]\r\n"
     ]
    }
   ],
   "source": [
    "fun makeList(a: Int, b: Int, c: Int = 0) =  listOf(a, b, c)\n",
    "println(makeList(10, 20))"
   ],
   "metadata": {
    "collapsed": false,
    "ExecuteTime": {
     "end_time": "2023-09-03T07:34:33.107959600Z",
     "start_time": "2023-09-03T07:34:32.439696300Z"
    }
   }
  },
  {
   "cell_type": "code",
   "execution_count": 2,
   "outputs": [
    {
     "name": "stdout",
     "output_type": "stream",
     "text": [
      "[10, 20]\r\n"
     ]
    }
   ],
   "source": [
    "println(makeList(b=20, a=10))\n"
   ],
   "metadata": {
    "collapsed": false,
    "ExecuteTime": {
     "end_time": "2023-09-03T07:32:37.442341700Z",
     "start_time": "2023-09-03T07:32:37.112823300Z"
    }
   }
  },
  {
   "cell_type": "code",
   "execution_count": 7,
   "outputs": [
    {
     "name": "stdout",
     "output_type": "stream",
     "text": [
      "[60, 80, 0]\r\n"
     ]
    }
   ],
   "source": [
    "val nums = makeList(30, 40)\n",
    "val doubleNums = nums.map { it * 2 }\n",
    "println(doubleNums)"
   ],
   "metadata": {
    "collapsed": false,
    "ExecuteTime": {
     "end_time": "2023-09-03T07:41:34.927060300Z",
     "start_time": "2023-09-03T07:41:34.431867200Z"
    }
   }
  },
  {
   "cell_type": "code",
   "execution_count": 9,
   "outputs": [
    {
     "name": "stdout",
     "output_type": "stream",
     "text": [
      "true\r\n"
     ]
    }
   ],
   "source": [
    "fun Int.isEven() = this % 2 == 0\n",
    "val a = 10\n",
    "println(a.isEven())"
   ],
   "metadata": {
    "collapsed": false,
    "ExecuteTime": {
     "end_time": "2023-09-03T07:48:27.418936100Z",
     "start_time": "2023-09-03T07:48:27.084817600Z"
    }
   }
  },
  {
   "cell_type": "code",
   "execution_count": 13,
   "outputs": [
    {
     "name": "stdout",
     "output_type": "stream",
     "text": [
      "ali\r\n"
     ]
    }
   ],
   "source": [
    "var name : String?\n",
    "name = \"Ali\"\n",
    "\n",
    "name?.let {\n",
    "    \n",
    "    var lowerName = it.lowercase()\n",
    "    println(lowerName)\n",
    "}\n"
   ],
   "metadata": {
    "collapsed": false,
    "ExecuteTime": {
     "end_time": "2023-09-03T08:20:46.082047700Z",
     "start_time": "2023-09-03T08:20:44.853649800Z"
    }
   }
  },
  {
   "cell_type": "code",
   "execution_count": 20,
   "outputs": [
    {
     "name": "stdout",
     "output_type": "stream",
     "text": [
      "130\r\n"
     ]
    }
   ],
   "source": [
    "fun add (a: Int, b: Int, c: Int = 0) = a + b + c \n",
    "\n",
    "println(add(c = 100, b = 20, a = 10))"
   ],
   "metadata": {
    "collapsed": false,
    "ExecuteTime": {
     "end_time": "2023-09-03T08:38:10.729841600Z",
     "start_time": "2023-09-03T08:38:10.478054100Z"
    }
   }
  },
  {
   "cell_type": "code",
   "execution_count": 22,
   "outputs": [
    {
     "name": "stdout",
     "output_type": "stream",
     "text": [
      "[2, 6, 10, 20]\r\n"
     ]
    }
   ],
   "source": [
    "val nums = listOf(1, 3, 5, 10)\n",
    "val doubleNums = nums.map { e -> e * 2 }\n",
    "println(doubleNums)"
   ],
   "metadata": {
    "collapsed": false,
    "ExecuteTime": {
     "end_time": "2023-09-03T08:40:34.741423600Z",
     "start_time": "2023-09-03T08:40:34.403010900Z"
    }
   }
  },
  {
   "cell_type": "code",
   "execution_count": 25,
   "outputs": [
    {
     "name": "stdout",
     "output_type": "stream",
     "text": [
      "false\r\n",
      "true\r\n",
      "30\r\n",
      "30\r\n"
     ]
    }
   ],
   "source": [
    "fun Int.isOdd() = this % 2 != 0\n",
    "infix fun Int.add(num: Int) = this + num\n",
    "\n",
    "val x = 10\n",
    "println(x.isOdd())\n",
    "println(5.isOdd())\n",
    "\n",
    "println(10.add(20))\n",
    "println(10 add 20)"
   ],
   "metadata": {
    "collapsed": false,
    "ExecuteTime": {
     "end_time": "2023-09-03T08:45:26.032044100Z",
     "start_time": "2023-09-03T08:45:25.766757900Z"
    }
   }
  },
  {
   "cell_type": "code",
   "execution_count": 5,
   "outputs": [
    {
     "name": "stdout",
     "output_type": "stream",
     "text": [
      "true\r\n"
     ]
    }
   ],
   "source": [
    "val msg = \"2016 was cool without COVID!\"\n",
    "val hasDigit = msg.any { it.isDigit() }\n",
    "println(hasDigit)"
   ],
   "metadata": {
    "collapsed": false,
    "ExecuteTime": {
     "end_time": "2023-09-05T08:45:58.527948200Z",
     "start_time": "2023-09-05T08:45:58.245962700Z"
    }
   }
  },
  {
   "cell_type": "code",
   "execution_count": null,
   "outputs": [],
   "source": [],
   "metadata": {
    "collapsed": false
   }
  },
  {
   "cell_type": "code",
   "execution_count": null,
   "outputs": [],
   "source": [],
   "metadata": {
    "collapsed": false
   }
  }
 ],
 "metadata": {
  "kernelspec": {
   "display_name": "Kotlin",
   "language": "kotlin",
   "name": "kotlin"
  },
  "language_info": {
   "name": "kotlin",
   "version": "1.8.20",
   "mimetype": "text/x-kotlin",
   "file_extension": ".kt",
   "pygments_lexer": "kotlin",
   "codemirror_mode": "text/x-kotlin",
   "nbconvert_exporter": ""
  }
 },
 "nbformat": 4,
 "nbformat_minor": 0
}
